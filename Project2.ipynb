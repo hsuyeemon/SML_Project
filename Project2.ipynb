{
 "cells": [
  {
   "cell_type": "code",
   "execution_count": 17,
   "metadata": {},
   "outputs": [
    {
     "name": "stdout",
     "output_type": "stream",
     "text": [
      "(4846, 10070)\n"
     ]
    }
   ],
   "source": [
    "import pandas as pd\n",
    "from sklearn.feature_extraction.text import TfidfVectorizer\n",
    "from sklearn.model_selection import train_test_split\n",
    "import scipy.sparse as sp\n",
    "\n",
    "# Load your dataset\n",
    "df = pd.read_csv('data//news_data.csv',  encoding='latin-1', header=None)\n",
    "df.columns = ['class', 'news']\n",
    "label_mapping = {'positive': 1, 'negative': -1, 'neutral': 0}\n",
    "df['class'] = df['class'].map(label_mapping)\n",
    "\n",
    "vectorizer = TfidfVectorizer() #max_features=1000\n",
    "\n",
    "X = vectorizer.fit_transform(df['news'])\n",
    "y = df['class']\n",
    "\n",
    "print(X.shape)\n"
   ]
  },
  {
   "cell_type": "code",
   "execution_count": 18,
   "metadata": {},
   "outputs": [
    {
     "data": {
      "text/plain": [
       "(1939, 10070)"
      ]
     },
     "execution_count": 18,
     "metadata": {},
     "output_type": "execute_result"
    }
   ],
   "source": [
    "from sklearn.model_selection import train_test_split\n",
    "X_train, X_test, y_train, y_test = train_test_split(X,y, \n",
    "                                    test_size = 0.40, \n",
    "                                    random_state=1)\n",
    "X_test.shape"
   ]
  },
  {
   "cell_type": "code",
   "execution_count": 27,
   "metadata": {},
   "outputs": [
    {
     "name": "stdout",
     "output_type": "stream",
     "text": [
      "[[ 79   2 166]\n",
      " [ 67  79 984]\n",
      " [ 53   6 503]]\n",
      "              precision    recall  f1-score   support\n",
      "\n",
      "          -1       0.40      0.32      0.35       247\n",
      "           0       0.91      0.07      0.13      1130\n",
      "           1       0.30      0.90      0.45       562\n",
      "\n",
      "    accuracy                           0.34      1939\n",
      "   macro avg       0.54      0.43      0.31      1939\n",
      "weighted avg       0.67      0.34      0.25      1939\n",
      "\n"
     ]
    }
   ],
   "source": [
    "#--------------------------------------------------\n",
    "## ----------- K-NN Classifier ------------------## \n",
    "#--------------------------------------------------\n",
    "from sklearn.preprocessing import StandardScaler\n",
    "from sklearn.pipeline import Pipeline\n",
    "from sklearn.neighbors import KNeighborsClassifier\n",
    "from sklearn.metrics import classification_report\n",
    "from sklearn.metrics import confusion_matrix\n",
    "from sklearn.metrics import roc_auc_score\n",
    "\n",
    "steps = [('scaler', StandardScaler(with_mean=False)),         \n",
    "         ('knn', KNeighborsClassifier(n_neighbors = 4))]\n",
    "\n",
    "knn_pipeline = Pipeline(steps)\n",
    "knn_pipeline.fit(X_train, y_train)\n",
    "\n",
    "ypred_test = knn_pipeline.predict(X_test)\n",
    "mat_clf = confusion_matrix(y_test, ypred_test)\n",
    "report_clf = classification_report(y_test, ypred_test)\n",
    "\n",
    "print(mat_clf)\n",
    "print(report_clf)"
   ]
  },
  {
   "cell_type": "code",
   "execution_count": 20,
   "metadata": {},
   "outputs": [
    {
     "name": "stdout",
     "output_type": "stream",
     "text": [
      "[[100  89  58]\n",
      " [ 77 787 266]\n",
      " [ 67 260 235]]\n",
      "              precision    recall  f1-score   support\n",
      "\n",
      "          -1       0.41      0.40      0.41       247\n",
      "           0       0.69      0.70      0.69      1130\n",
      "           1       0.42      0.42      0.42       562\n",
      "\n",
      "    accuracy                           0.58      1939\n",
      "   macro avg       0.51      0.51      0.51      1939\n",
      "weighted avg       0.58      0.58      0.58      1939\n",
      "\n"
     ]
    }
   ],
   "source": [
    "from sklearn.naive_bayes import GaussianNB\n",
    "gnb = GaussianNB()\n",
    "gnb.fit(X_train.toarray(), y_train)\n",
    "\n",
    "ypred_test = gnb.predict(X_test.toarray())\n",
    "mat_clf = confusion_matrix(y_test, ypred_test)\n",
    "report_clf = classification_report(y_test, ypred_test)\n",
    "\n",
    "print(mat_clf)\n",
    "print(report_clf)"
   ]
  },
  {
   "cell_type": "code",
   "execution_count": 21,
   "metadata": {},
   "outputs": [
    {
     "name": "stderr",
     "output_type": "stream",
     "text": [
      "c:\\Users\\hsuye\\anaconda3\\envs\\ml_deploy\\lib\\site-packages\\sklearn\\linear_model\\_logistic.py:763: ConvergenceWarning: lbfgs failed to converge (status=1):\n",
      "STOP: TOTAL NO. of ITERATIONS REACHED LIMIT.\n",
      "\n",
      "Increase the number of iterations (max_iter) or scale the data as shown in:\n",
      "    https://scikit-learn.org/stable/modules/preprocessing.html\n",
      "Please also refer to the documentation for alternative solver options:\n",
      "    https://scikit-learn.org/stable/modules/linear_model.html#logistic-regression\n",
      "  n_iter_i = _check_optimize_result(\n"
     ]
    },
    {
     "name": "stdout",
     "output_type": "stream",
     "text": [
      "[[126  83  38]\n",
      " [ 25 983 122]\n",
      " [ 19 244 299]]\n",
      "              precision    recall  f1-score   support\n",
      "\n",
      "          -1       0.74      0.51      0.60       247\n",
      "           0       0.75      0.87      0.81      1130\n",
      "           1       0.65      0.53      0.59       562\n",
      "\n",
      "    accuracy                           0.73      1939\n",
      "   macro avg       0.71      0.64      0.67      1939\n",
      "weighted avg       0.72      0.73      0.72      1939\n",
      "\n"
     ]
    }
   ],
   "source": [
    "#--------------------------------------------------\n",
    "## ------------Logistic Regresion----------------##\n",
    "#--------------------------------------------------\n",
    "\n",
    "from sklearn.linear_model import LogisticRegression\n",
    "\n",
    "steps = [('scaler', StandardScaler()),\n",
    "         ('logReg', LogisticRegression(penalty = \"l2\", C = 1.0))]\n",
    "\n",
    "LR_pipeline = Pipeline(steps)\n",
    "LR_pipeline.fit(X_train.toarray(), y_train)\n",
    "\n",
    "ypred_test = LR_pipeline.predict(X_test.toarray())\n",
    "mat_clf = confusion_matrix(y_test, ypred_test)\n",
    "report_clf = classification_report(y_test, ypred_test)\n",
    "\n",
    "print(mat_clf)\n",
    "print(report_clf)\n",
    "\n",
    "#ypred_testP = LR_pipeline.predict_proba(X_test.toarray())\n",
    "#auc = roc_auc_score(y_test, ypred_testP[:,1])\n",
    "#print(auc)"
   ]
  },
  {
   "cell_type": "code",
   "execution_count": 22,
   "metadata": {},
   "outputs": [
    {
     "name": "stdout",
     "output_type": "stream",
     "text": [
      "Linear\n",
      "[[122  75  50]\n",
      " [ 43 879 208]\n",
      " [ 41 241 280]]\n",
      "              precision    recall  f1-score   support\n",
      "\n",
      "          -1       0.59      0.49      0.54       247\n",
      "           0       0.74      0.78      0.76      1130\n",
      "           1       0.52      0.50      0.51       562\n",
      "\n",
      "    accuracy                           0.66      1939\n",
      "   macro avg       0.62      0.59      0.60      1939\n",
      "weighted avg       0.65      0.66      0.66      1939\n",
      "\n",
      "svcPoly_pipeline\n",
      "[[   5  241    1]\n",
      " [   2 1121    7]\n",
      " [   4  551    7]]\n",
      "              precision    recall  f1-score   support\n",
      "\n",
      "          -1       0.45      0.02      0.04       247\n",
      "           0       0.59      0.99      0.74      1130\n",
      "           1       0.47      0.01      0.02       562\n",
      "\n",
      "    accuracy                           0.58      1939\n",
      "   macro avg       0.50      0.34      0.27      1939\n",
      "weighted avg       0.53      0.58      0.44      1939\n",
      "\n",
      "svcRBF_pipeline\n",
      "[[ 119  104   24]\n",
      " [  22 1046   62]\n",
      " [  34  309  219]]\n",
      "              precision    recall  f1-score   support\n",
      "\n",
      "          -1       0.68      0.48      0.56       247\n",
      "           0       0.72      0.93      0.81      1130\n",
      "           1       0.72      0.39      0.51       562\n",
      "\n",
      "    accuracy                           0.71      1939\n",
      "   macro avg       0.70      0.60      0.63      1939\n",
      "weighted avg       0.71      0.71      0.69      1939\n",
      "\n"
     ]
    }
   ],
   "source": [
    "from sklearn.preprocessing import StandardScaler\n",
    "from sklearn.pipeline import Pipeline\n",
    "\n",
    "#--------------------------------------------------\n",
    "## ------------ SVM Classifier ------------------## \n",
    "#--------------------------------------------------\n",
    "\n",
    "from sklearn.svm import SVC\n",
    "\n",
    "## Linear Kernel  ---------------\n",
    "steps = [('scaler', StandardScaler()),         \n",
    "         ('svc', SVC(kernel = 'linear',\n",
    "                     class_weight='balanced'))]\n",
    "\n",
    "svcL_pipeline = Pipeline(steps)\n",
    "svcL_pipeline.fit(X_train.toarray(), y_train)\n",
    "\n",
    "## Polynomial Kernel -----------------------\n",
    "steps = [('scaler', StandardScaler()),         \n",
    "         ('svc', SVC(kernel = 'poly', degree = 3, \n",
    "                     class_weight='balanced'))]\n",
    "\n",
    "svcPoly_pipeline = Pipeline(steps)\n",
    "svcPoly_pipeline.fit(X_train.toarray(), y_train)\n",
    "\n",
    "## RBF Kernel -----------------------\n",
    "steps = [('scaler', StandardScaler()),         \n",
    "         ('svc', SVC(kernel = 'rbf', gamma = 'scale',\n",
    "                     class_weight='balanced'))]\n",
    "\n",
    "svcRBF_pipeline = Pipeline(steps)\n",
    "svcRBF_pipeline.fit(X_train.toarray(), y_train)\n",
    "\n",
    "\n",
    "#--------------------------------------------------\n",
    "## Model Evaluation ##\n",
    "#--------------------------------------------------\n",
    "from sklearn.metrics import classification_report\n",
    "from sklearn.metrics import confusion_matrix\n",
    "from sklearn.metrics import roc_auc_score\n",
    "\n",
    "\n",
    "ypred_test = svcL_pipeline.predict(X_test.toarray())\n",
    "mat_clf = confusion_matrix(y_test, ypred_test)\n",
    "report_clf = classification_report(y_test, ypred_test)\n",
    "\n",
    "print(\"Linear\")\n",
    "print(mat_clf)\n",
    "print(report_clf)\n",
    "\n",
    "#ypred_test = svcPoly_pipeline.predict(X_test.toarray())\n",
    "#mat_clf = confusion_matrix(y_test, ypred_test)\n",
    "#report_clf = classification_report(y_test, ypred_test)\n",
    "\n",
    "#print(\"svcPoly_pipeline\")\n",
    "#print(mat_clf)\n",
    "#print(report_clf)\n",
    "\n"
   ]
  },
  {
   "cell_type": "code",
   "execution_count": 26,
   "metadata": {},
   "outputs": [],
   "source": [
    "#ypred_test = svcRBF_pipeline.predict(X_test.toarray())\n",
    "#mat_clf = confusion_matrix(y_test, ypred_test)\n",
    "#report_clf = classification_report(y_test, ypred_test)\n",
    "\n",
    "#print(\"svcRBF_pipeline\")\n",
    "#print(mat_clf)\n",
    "#print(report_clf)"
   ]
  }
 ],
 "metadata": {
  "kernelspec": {
   "display_name": "base",
   "language": "python",
   "name": "python3"
  },
  "language_info": {
   "codemirror_mode": {
    "name": "ipython",
    "version": 3
   },
   "file_extension": ".py",
   "mimetype": "text/x-python",
   "name": "python",
   "nbconvert_exporter": "python",
   "pygments_lexer": "ipython3",
   "version": "3.9.12"
  }
 },
 "nbformat": 4,
 "nbformat_minor": 2
}
