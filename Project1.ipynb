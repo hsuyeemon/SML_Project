{
  "cells": [
    {
      "cell_type": "code",
      "execution_count": 76,
      "metadata": {
        "id": "VUuB5ETlvfPV"
      },
      "outputs": [],
      "source": [
        "import pandas as pd\n",
        "df = pd.read_csv('https://raw.githubusercontent.com/hsuyeemon/SML_Project/main/data/life%20expectancy.csv')"
      ]
    },
    {
      "cell_type": "markdown",
      "metadata": {
        "id": "eL2fle0sbzMz"
      },
      "source": [
        "Data Preprocessing"
      ]
    },
    {
      "cell_type": "code",
      "execution_count": 77,
      "metadata": {},
      "outputs": [
        {
          "name": "stdout",
          "output_type": "stream",
          "text": [
            "Number of rows after dropping :  3118\n"
          ]
        }
      ],
      "source": [
        "# we will use only the rows where the target Life Expectancy value present.\n",
        "df = df[~df['Life Expectancy World Bank'].isna()]\n",
        "print(\"Number of rows after dropping : \", df.shape[0])"
      ]
    },
    {
      "cell_type": "code",
      "execution_count": 78,
      "metadata": {},
      "outputs": [
        {
          "name": "stdout",
          "output_type": "stream",
          "text": [
            "The missing value percent\n",
            " Health Expenditure %        4.554201\n",
            "Education Expenditure %    31.205901\n",
            "dtype: float64\n"
          ]
        }
      ],
      "source": [
        "percentage_missing = (df[['Health Expenditure %','Education Expenditure %']].isnull().sum() / len(df)) * 100\n",
        "print(\"The missing value percent\\n\",percentage_missing)"
      ]
    },
    {
      "cell_type": "code",
      "execution_count": 79,
      "metadata": {},
      "outputs": [],
      "source": [
        "# TODO : // get a subset of data for project  \n",
        "\n",
        "# Reference\n",
        "# We will use the data from \"East Asia & Pacific,South Asia and Europe & Central Asia\" region since 2010.\n",
        "#df = df[df['Year']>=2010]\n",
        "\n",
        "# regions_filter = ['','']\n",
        "# df = df[df['Region'].isin(regions_filter)]\n",
        "# data = data[(data['Region'] == 'East Asia & Pacific') | (data['Region'] == 'South Asia')| (data['Region'] == 'Europe & Central Asia')]"
      ]
    },
    {
      "cell_type": "code",
      "execution_count": 80,
      "metadata": {},
      "outputs": [],
      "source": [
        "df_filtered = df[~df['Country Name'].isin(['Dominica', 'Palau'])]"
      ]
    },
    {
      "cell_type": "code",
      "execution_count": 85,
      "metadata": {},
      "outputs": [
        {
          "name": "stdout",
          "output_type": "stream",
          "text": [
            "['Bosnia and Herzegovina', 'Dominica', 'Equatorial Guinea', 'Eritrea', 'France', 'Greenland', 'Grenada', 'Guam', 'Iraq', 'Libya', 'Montenegro', 'Nigeria', 'North Macedonia', 'Palau', 'Papua New Guinea', 'Puerto Rico', 'Somalia', 'Turkmenistan', 'United Arab Emirates', 'United States']\n",
            "['Afghanistan', 'Angola', 'United Arab Emirates', 'Antigua and Barbuda', 'Australia', 'Belgium', 'Burkina Faso', 'Bahrain', 'Bosnia and Herzegovina', 'Belarus', 'Bermuda', 'Bolivia', 'Botswana', 'Central African Republic', 'Chile', 'China', 'Comoros', 'Germany', 'Algeria', 'Ecuador', 'France', 'Gabon', 'Guinea-Bissau', 'Equatorial Guinea', 'Grenada', 'Greenland', 'Guatemala', 'Guam', 'Honduras', 'Croatia', 'Haiti', 'India', 'Iraq', 'Jordan', 'Kazakhstan', 'Liberia', 'Libya', 'Sri Lanka', 'Morocco', 'Maldives', 'North Macedonia', 'Malta', 'Myanmar', 'Montenegro', 'Mongolia', 'Mozambique', 'Nigeria', 'Nicaragua', 'Pakistan', 'Papua New Guinea', 'Puerto Rico', 'Sudan', 'Solomon Islands', 'El Salvador', 'Somalia', 'Serbia', 'South Sudan', 'Sao Tome and Principe', 'Suriname', 'Seychelles', 'Turkmenistan', 'Tanzania', 'Uganda', 'United States', 'Uzbekistan', 'Vietnam', 'Zambia', 'Zimbabwe', 'Belize', 'Bhutan', 'Cameroon', 'Dominica', 'Ghana', 'Kiribati', 'Luxembourg', 'Malawi', 'Rwanda', 'Chad', 'Burundi', 'Brazil', 'Canada', 'Eritrea', 'Ethiopia', 'Fiji', 'Cambodia', 'Kuwait', 'Lebanon', 'Samoa', 'Dominican Republic', 'Namibia', 'Niger', 'Trinidad and Tobago', 'Vanuatu', 'Bangladesh', 'Costa Rica', 'Latvia', 'Mauritania', 'Malaysia', 'Panama', 'Palau', 'Paraguay', 'Tonga', 'Barbados', 'Estonia', 'Guinea', 'Greece', 'Indonesia', 'Jamaica', 'Mali', 'Qatar', 'Sierra Leone', 'Kenya', 'Lesotho', 'Oman', 'Saudi Arabia', 'Senegal', 'Eswatini', 'Uruguay', 'Albania', 'Djibouti', 'Guyana', 'Japan', 'Cuba', 'Philippines', 'Cyprus', 'United Kingdom', 'Tajikistan', 'Bulgaria', 'Denmark', 'Portugal', 'Tunisia', 'Austria', 'Switzerland', 'Spain', 'Finland', 'Hungary', 'Ireland', 'Iceland', 'Israel', 'Italy', 'Lithuania', 'Mexico', 'Netherlands', 'Norway', 'New Zealand', 'Poland', 'Romania', 'Slovenia', 'Sweden']\n"
          ]
        }
      ],
      "source": [
        "# Group by 'Country' and count the number of unique years\n",
        "country_edu_data_counts = df_filtered[['Country Name','Education Expenditure %']].groupby('Country Name')['Education Expenditure %'].nunique() \n",
        "\n",
        "# Filter out countries with less than 5 years of data\n",
        "countries_edu_with_less_than_5_years = country_edu_data_counts[country_edu_data_counts < 5].index.tolist()\n",
        "\n",
        "# Filter out countries to impute\n",
        "countries_edu_with_null_value = df_filtered[df_filtered['Education Expenditure %'].isna() == True]['Country Name'].unique().tolist()\n",
        "\n",
        "print(countries_edu_with_less_than_5_years)\n",
        "print(countries_edu_with_null_value)"
      ]
    },
    {
      "cell_type": "code",
      "execution_count": 86,
      "metadata": {},
      "outputs": [
        {
          "name": "stdout",
          "output_type": "stream",
          "text": [
            "['Bosnia and Herzegovina', 'Dominica', 'Equatorial Guinea', 'Eritrea', 'France', 'Greenland', 'Grenada', 'Guam', 'Iraq', 'Libya', 'Montenegro', 'Nigeria', 'North Macedonia', 'Palau', 'Papua New Guinea', 'Puerto Rico', 'Somalia', 'Turkmenistan', 'United Arab Emirates', 'United States']\n",
            "['Afghanistan', 'Bermuda', 'Greenland', 'Guam', 'Iraq', 'Montenegro', 'Puerto Rico', 'Somalia', 'South Sudan', 'Zimbabwe', 'Libya', 'Albania']\n"
          ]
        }
      ],
      "source": [
        "# Group by 'Country' and count the number of unique years\n",
        "country_hea_data_counts = df[['Country Name','Health Expenditure %']].groupby('Country Name')['Health Expenditure %'].nunique() \n",
        "\n",
        "# Filter out countries with less than 5 years of data\n",
        "countries_hea_with_less_than_5_years = country_hea_data_counts[country_edu_data_counts < 5].index.tolist()\n",
        "\n",
        "# Filter out countries to impute\n",
        "countries_hea_with_null_value = df[df['Health Expenditure %'].isna() == True]['Country Name'].unique().tolist()\n",
        "\n",
        "\n",
        "print(countries_hea_with_less_than_5_years)\n",
        "print(countries_hea_with_null_value)"
      ]
    },
    {
      "cell_type": "code",
      "execution_count": 83,
      "metadata": {},
      "outputs": [
        {
          "name": "stdout",
          "output_type": "stream",
          "text": [
            "data points after filtered 2774\n",
            "data points after filtered 2774\n"
          ]
        }
      ],
      "source": [
        "# handle missing data\n",
        "\n",
        "df_filtered = df_filtered[~df_filtered['Country Name'].isin(countries_edu_with_less_than_5_years)]\n",
        "print(\"data points after filtered\" , df_filtered.shape[0])\n",
        "\n",
        "df_filtered = df_filtered[~df_filtered['Country Name'].isin(countries_hea_with_less_than_5_years)]\n",
        "print(\"data points after filtered\" , df_filtered.shape[0])"
      ]
    },
    {
      "cell_type": "code",
      "execution_count": 65,
      "metadata": {},
      "outputs": [],
      "source": []
    },
    {
      "cell_type": "markdown",
      "metadata": {},
      "source": []
    },
    {
      "cell_type": "code",
      "execution_count": 84,
      "metadata": {
        "id": "fa-ssIwwxz82"
      },
      "outputs": [
        {
          "name": "stdout",
          "output_type": "stream",
          "text": [
            "The missing value percent\n",
            " Education Expenditure %    0.0\n",
            "dtype: float64\n",
            "The missing value percent\n",
            " Health Expenditure %    1.658255\n",
            "dtype: float64\n"
          ]
        },
        {
          "name": "stderr",
          "output_type": "stream",
          "text": [
            "C:\\Users\\hsuye\\AppData\\Local\\Temp\\ipykernel_16324\\3385512279.py:8: SettingWithCopyWarning: \n",
            "A value is trying to be set on a copy of a slice from a DataFrame.\n",
            "Try using .loc[row_indexer,col_indexer] = value instead\n",
            "\n",
            "See the caveats in the documentation: https://pandas.pydata.org/pandas-docs/stable/user_guide/indexing.html#returning-a-view-versus-a-copy\n",
            "  df_subset['Education Expenditure %'] = df_subset.groupby('Country Name')['Education Expenditure %'].transform(lambda x: x.fillna(x.mean()))\n",
            "C:\\Users\\hsuye\\AppData\\Local\\Temp\\ipykernel_16324\\3385512279.py:23: SettingWithCopyWarning: \n",
            "A value is trying to be set on a copy of a slice from a DataFrame.\n",
            "Try using .loc[row_indexer,col_indexer] = value instead\n",
            "\n",
            "See the caveats in the documentation: https://pandas.pydata.org/pandas-docs/stable/user_guide/indexing.html#returning-a-view-versus-a-copy\n",
            "  df_subset['Health Expenditure %'] = df_subset.groupby('Country Name')['Health Expenditure %'].transform(lambda x: x.fillna(x.mean()))\n"
          ]
        }
      ],
      "source": [
        "# imputation\n",
        "\n",
        "# Filter the DataFrame to include only the specified countries\n",
        "df_subset = df_filtered[df_filtered['Country Name'].isin(countries_edu_with_null_value)]\n",
        "\n",
        "# Calculate mean for each country group and impute missing values\n",
        "#print(df_subset.groupby('Country Name')['Education Expenditure %'].transform(lambda x: x.fillna(x.mean())))\n",
        "df_subset['Education Expenditure %'] = df_subset.groupby('Country Name')['Education Expenditure %'].transform(lambda x: x.fillna(x.mean()))\n",
        "\n",
        "# Merge the subset back into the original DataFrame\n",
        "df_imputed = pd.concat([df_filtered[~df_filtered['Country Name'].isin(countries_edu_with_null_value)], df_subset])\n",
        "\n",
        "percentage_missing = (df_imputed[['Education Expenditure %']].isnull().sum() / len(df_imputed)) * 100\n",
        "print(\"The missing value percent\\n\",percentage_missing)\n",
        "\n",
        "\n",
        "\n",
        "# Filter the DataFrame to include only the specified countries\n",
        "df_subset = df_imputed[df_imputed['Country Name'].isin(countries_hea_with_null_value)]\n",
        "\n",
        "# Calculate mean for each country group and impute missing values\n",
        "#print(df_subset.groupby('Country Name')['Education Expenditure %'].transform(lambda x: x.fillna(x.mean())))\n",
        "df_subset['Health Expenditure %'] = df_subset.groupby('Country Name')['Health Expenditure %'].transform(lambda x: x.fillna(x.mean()))\n",
        "\n",
        "# Merge the subset back into the original DataFrame\n",
        "df_cleaned = pd.concat([df_imputed[~df_imputed['Country Name'].isin(countries_hea_with_null_value)], df_subset])\n",
        "\n",
        "percentage_missing = (df_imputed[['Health Expenditure %']].isnull().sum() / len(df_imputed)) * 100\n",
        "print(\"The missing value percent\\n\",percentage_missing)"
      ]
    },
    {
      "cell_type": "code",
      "execution_count": 9,
      "metadata": {},
      "outputs": [
        {
          "name": "stderr",
          "output_type": "stream",
          "text": [
            "C:\\Users\\hsuye\\AppData\\Local\\Temp\\ipykernel_16324\\2536136589.py:31: SettingWithCopyWarning: \n",
            "A value is trying to be set on a copy of a slice from a DataFrame.\n",
            "Try using .loc[row_indexer,col_indexer] = value instead\n",
            "\n",
            "See the caveats in the documentation: https://pandas.pydata.org/pandas-docs/stable/user_guide/indexing.html#returning-a-view-versus-a-copy\n",
            "  df_subset['Education Expenditure %'] = df_subset.groupby('Country Name')['Education Expenditure %'].transform(lambda x: x.fillna(x.mean()))\n",
            "C:\\Users\\hsuye\\AppData\\Local\\Temp\\ipykernel_16324\\2536136589.py:48: SettingWithCopyWarning: \n",
            "A value is trying to be set on a copy of a slice from a DataFrame.\n",
            "Try using .loc[row_indexer,col_indexer] = value instead\n",
            "\n",
            "See the caveats in the documentation: https://pandas.pydata.org/pandas-docs/stable/user_guide/indexing.html#returning-a-view-versus-a-copy\n",
            "  df_subset['Health Expenditure %'] = df_subset.groupby('Country Name')['Health Expenditure %'].transform(lambda x: x.fillna(x.mean()))\n"
          ]
        }
      ],
      "source": [
        "# Define the subset of countries we want to impute\n",
        "countries_to_impute = [\n",
        "    'Afghanistan','Albania','Angola','Australia','Austria','Bahrain',\n",
        "    'Bangladesh','Barbados','Belarus','Belgium','Belize','Bhutan','Brazil',\n",
        "    'Bulgaria','Burkina Faso','Burundi','Cambodia','Cameroon','Central African Republic',\n",
        "    'Chad','Chile','China','Costa Rica','Croatia','Cuba','Cyprus',\n",
        "    'Denmark','Djibouti','Dominican Republic','Ecuador','El Salvador',\n",
        "    'Estonia','Eswatini','Ethiopia','Fiji','Finland','Gabon','Germany',\n",
        "    'Ghana','Guatemala','Guinea','Guinea-Bissau','Guyana','Hungary',\n",
        "    'Iceland','India','Indonesia','Ireland','Israel','Italy',\n",
        "    'Jamaica','Japan','Jordan','Kazakhstan','Kenya','Kiribati',\n",
        "    'Kuwait','Latvia','Lebanon','Lesotho','Lithuania',\n",
        "    'Malawi','Malaysia','Maldives','Mali','Malta','Mauritania',\n",
        "    'Mexico','Mongolia','Mozambique','Myanmar','Namibia',\n",
        "    'Netherlands','New Zealand','Niger','Norway','Oman',\n",
        "    'Pakistan','Panama','Paraguay','Philippines','Poland',\n",
        "    'Portugal','Qatar','Romania','Rwanda','Samoa','Sao Tome and Principe',\n",
        "    'Saudi Arabia','Senegal','Serbia','Seychelles','Sierra Leone',\n",
        "    'Slovenia','Solomon Islands','Spain','Sri Lanka','Sweden',\n",
        "    'Switzerland','Tajikistan','Tanzania','Trinidad and Tobago',\n",
        "    'Tunisia','Uganda','United Kingdom','Uruguay','Vietnam','Zambia',\n",
        "]\n",
        "\n",
        "\n",
        "# Filter the DataFrame to include only the specified countries\n",
        "df_subset = df_filtered[df_filtered['Country Name'].isin(countries_to_impute)]\n",
        "\n",
        "\n",
        "# Calculate mean for each country group and impute missing values\n",
        "#print(df_subset.groupby('Country Name')['Education Expenditure %'].transform(lambda x: x.fillna(x.mean())))\n",
        "df_subset['Education Expenditure %'] = df_subset.groupby('Country Name')['Education Expenditure %'].transform(lambda x: x.fillna(x.mean()))\n",
        "\n",
        "# Merge the subset back into the original DataFrame\n",
        "df_imputed = pd.concat([df_filtered[~df_filtered['Country Name'].isin(countries_to_impute)], df_subset])\n",
        "\n",
        "\n",
        "heath_imp = ['Afghanistan',\n",
        "'Albania',\n",
        "'Iraq',\n",
        "'Zimbabwe',\n",
        "]\n",
        "\n",
        "# Filter the DataFrame to include only the specified countries\n",
        "df_subset = df_imputed [df_imputed['Country Name'].isin(heath_imp)]\n",
        "\n",
        "\n",
        "# Calculate mean for each country group and impute missing values\n",
        "df_subset['Health Expenditure %'] = df_subset.groupby('Country Name')['Health Expenditure %'].transform(lambda x: x.fillna(x.mean()))\n",
        "\n",
        "\n",
        "# Merge the subset back into the original DataFrame\n",
        "df_imputed = pd.concat([df_imputed[~df_imputed['Country Name'].isin(heath_imp)], df_subset])\n"
      ]
    },
    {
      "cell_type": "code",
      "execution_count": 67,
      "metadata": {},
      "outputs": [
        {
          "name": "stdout",
          "output_type": "stream",
          "text": [
            "The size of data is 2736\n",
            "The missing value percent\n",
            " Health Expenditure %           0.000000\n",
            "Education Expenditure %       23.099415\n",
            "Life Expectancy World Bank     0.000000\n",
            "dtype: float64\n"
          ]
        }
      ],
      "source": [
        "# get the columns of interest\n",
        "df_cleaned = df_imputed[['Health Expenditure %','Education Expenditure %','Life Expectancy World Bank']]\n",
        "print(\"The size of data is\",df_cleaned.shape[0])\n",
        "percentage_missing = (df_cleaned.isnull().sum() / len(df_cleaned)) * 100\n",
        "print(\"The missing value percent\\n\",percentage_missing) "
      ]
    },
    {
      "cell_type": "code",
      "execution_count": 68,
      "metadata": {},
      "outputs": [],
      "source": [
        "# remove outliers\n",
        "df_cleaned = df_cleaned[(df_cleaned['Education Expenditure %'] <=8) & (df_cleaned['Health Expenditure %'] <= 12)]"
      ]
    },
    {
      "cell_type": "code",
      "execution_count": 69,
      "metadata": {
        "id": "ISRAD4PTyg2U"
      },
      "outputs": [],
      "source": [
        "X = df_cleaned[['Health Expenditure %','Education Expenditure %']] #input\n",
        "y = df_cleaned['Life Expectancy World Bank'] #output"
      ]
    },
    {
      "cell_type": "markdown",
      "metadata": {
        "id": "wnD1HgnAtQGS"
      },
      "source": [
        "Splitting"
      ]
    },
    {
      "cell_type": "code",
      "execution_count": 70,
      "metadata": {
        "id": "AxRVwNuC3Bfx"
      },
      "outputs": [],
      "source": [
        "from sklearn.model_selection import train_test_split\n",
        "\n",
        "X_train, X_test, y_train, y_test = train_test_split(X,y, test_size = 0.3, random_state = 42)"
      ]
    },
    {
      "cell_type": "markdown",
      "metadata": {
        "id": "SIzF6GNxtSnE"
      },
      "source": [
        "Training"
      ]
    },
    {
      "cell_type": "code",
      "execution_count": 71,
      "metadata": {
        "id": "4QbE5R4XdwS3"
      },
      "outputs": [],
      "source": [
        "from sklearn.preprocessing import StandardScaler,PolynomialFeatures\n",
        "from sklearn.linear_model import Ridge\n",
        "from sklearn.impute import SimpleImputer\n",
        "from sklearn.pipeline import Pipeline\n",
        "\n",
        "steps = [ (\"scale\", StandardScaler()),  #standardizing the data to range ( mean = 0 ,variance = 1)\n",
        "          (\"polytransform\", PolynomialFeatures(degree = 3)), # transforming the polinomial to linear\n",
        "          (\"regressor\", Ridge(1)) ] # Ridge Model\n",
        "\n",
        "pipeline = Pipeline(steps)\n",
        "\n",
        "model = pipeline.fit(X_train, y_train)  # goal :  to find the parameters , minimize the error between the error and actual data , doing optimization\n"
      ]
    },
    {
      "cell_type": "markdown",
      "metadata": {
        "id": "ArkB47AFtVbD"
      },
      "source": [
        "Evaluation"
      ]
    },
    {
      "cell_type": "code",
      "execution_count": 72,
      "metadata": {
        "colab": {
          "base_uri": "https://localhost:8080/"
        },
        "id": "oDCT-Un82kLR",
        "outputId": "2dc62cd5-62dd-45d4-a087-d7b703a9dfb7"
      },
      "outputs": [
        {
          "name": "stdout",
          "output_type": "stream",
          "text": [
            "training\n",
            "mae: 6 mse: 61 r2 score: 0.26\n",
            "testing\n",
            "mae: 6 mse: 63 r2 score: 0.23\n"
          ]
        }
      ],
      "source": [
        "from sklearn.metrics import mean_absolute_error, mean_squared_error, r2_score\n",
        "\n",
        "# Evaluating on the training data\n",
        "y_pred = model.predict(X_train)\n",
        "mae = mean_absolute_error(y_train, y_pred)\n",
        "mse = mean_squared_error(y_train, y_pred)\n",
        "r2 = r2_score(y_train,y_pred)\n",
        "print('training')\n",
        "print('mae:', round(mae), 'mse:', round(mse), 'r2 score:', round(r2, 2))\n",
        "\n",
        "\n",
        "# Evaluating on the testing data\n",
        "y_pred = model.predict(X_test)\n",
        "mae = mean_absolute_error(y_test, y_pred)\n",
        "mse = mean_squared_error(y_test, y_pred)\n",
        "r2 = r2_score(y_test,y_pred)\n",
        "print('testing')\n",
        "print('mae:', round(mae), 'mse:', round(mse), 'r2 score:', round(r2, 2))\n"
      ]
    },
    {
      "cell_type": "code",
      "execution_count": null,
      "metadata": {},
      "outputs": [],
      "source": []
    }
  ],
  "metadata": {
    "colab": {
      "provenance": []
    },
    "kernelspec": {
      "display_name": "ml_deploy",
      "language": "python",
      "name": "python3"
    },
    "language_info": {
      "codemirror_mode": {
        "name": "ipython",
        "version": 3
      },
      "file_extension": ".py",
      "mimetype": "text/x-python",
      "name": "python",
      "nbconvert_exporter": "python",
      "pygments_lexer": "ipython3",
      "version": "3.9.12"
    }
  },
  "nbformat": 4,
  "nbformat_minor": 0
}
