{
  "cells": [
    {
      "cell_type": "code",
      "execution_count": 2,
      "metadata": {
        "id": "VUuB5ETlvfPV"
      },
      "outputs": [],
      "source": [
        "import pandas as pd\n",
        "df = pd.read_csv('https://raw.githubusercontent.com/hsuyeemon/SML_Project/main/data/life%20expectancy.csv')"
      ]
    },
    {
      "cell_type": "markdown",
      "metadata": {
        "id": "eL2fle0sbzMz"
      },
      "source": [
        "Data Preprocessing"
      ]
    },
    {
      "cell_type": "code",
      "execution_count": 3,
      "metadata": {},
      "outputs": [
        {
          "name": "stdout",
          "output_type": "stream",
          "text": [
            "Number of rows after dropping :  3118\n"
          ]
        }
      ],
      "source": [
        "# we will use only the rows where the target Life Expectancy value present.\n",
        "df = df[~df['Life Expectancy World Bank'].isna()]\n",
        "print(\"Number of rows after dropping : \", df.shape[0])"
      ]
    },
    {
      "cell_type": "code",
      "execution_count": 28,
      "metadata": {},
      "outputs": [
        {
          "name": "stdout",
          "output_type": "stream",
          "text": [
            "[2001 2002 2003 2004 2005 2006 2007 2008 2009 2010 2011 2012 2013 2014\n",
            " 2015 2016 2017 2018 2019]\n",
            "19\n"
          ]
        }
      ],
      "source": [
        "print(df['Year'].unique())\n",
        "print(len(df['Year'].unique()))"
      ]
    },
    {
      "cell_type": "code",
      "execution_count": 14,
      "metadata": {},
      "outputs": [
        {
          "name": "stdout",
          "output_type": "stream",
          "text": [
            "The missing value status ----\n",
            "Health Expenditure %       142\n",
            "Education Expenditure %    973\n",
            "dtype: int64\n",
            "Health Expenditure %        4.554201\n",
            "Education Expenditure %    31.205901\n",
            "dtype: float64\n",
            "# of countries with incomplete data in health 12\n",
            "# of countries with less than 8 years of data in health  8\n",
            "# of countries with incomplete data in education 149\n",
            "# of countries with less than 8 years of data in education  29\n"
          ]
        }
      ],
      "source": [
        "missing_count = df[['Health Expenditure %','Education Expenditure %']].isnull().sum()\n",
        "percentage_missing = ( missing_count/ len(df)) * 100\n",
        "print(\"The missing value status ----\")\n",
        "print(missing_count)\n",
        "print(percentage_missing)\n",
        "\n",
        "\n",
        "# Group by 'Country' and count the number of unique years\n",
        "country_hea_data_counts = df[['Country Name','Health Expenditure %']].groupby('Country Name')['Health Expenditure %'].nunique() \n",
        "\n",
        "# Filter out countries with less than 5 years of data\n",
        "countries_hea_with_less_than_5_years = country_hea_data_counts[country_hea_data_counts < 8].index.tolist()\n",
        "\n",
        "\n",
        "countries_hea_with_null_value = df[df['Health Expenditure %'].isna() == True]['Country Name'].unique()\n",
        "print(\"# of countries with incomplete data in health\",len(countries_hea_with_null_value))\n",
        "print(\"# of countries with less than 8 years of data in health \",len(countries_hea_with_less_than_5_years))\n",
        "\n",
        "# Group by 'Country' and count the number of unique years\n",
        "country_edu_data_counts = df[['Country Name','Education Expenditure %']].groupby('Country Name')['Education Expenditure %'].nunique() \n",
        "\n",
        "# Filter out countries with less than 5 years of data\n",
        "countries_edu_with_less_than_5_years = country_edu_data_counts[country_edu_data_counts <8].index.tolist()\n",
        "\n",
        "# Filter out countries to impute\n",
        "countries_edu_with_null_value = df[df['Education Expenditure %'].isna() == True]['Country Name'].unique().tolist()\n",
        "\n",
        "print(\"# of countries with incomplete data in education\", len(countries_edu_with_null_value))\n",
        "print(\"# of countries with less than 8 years of data in education \" ,len(countries_edu_with_less_than_5_years))\n",
        "\n"
      ]
    },
    {
      "cell_type": "code",
      "execution_count": 20,
      "metadata": {},
      "outputs": [
        {
          "name": "stdout",
          "output_type": "stream",
          "text": [
            "Missing Value Percentage by Region:\n",
            "Region\n",
            "North America                 33.333333\n",
            "Sub-Saharan Africa             5.263158\n",
            "East Asia & Pacific            4.750000\n",
            "Europe & Central Asia          3.588517\n",
            "Latin America & Caribbean      3.564728\n",
            "Middle East & North Africa     3.289474\n",
            "South Asia                     0.657895\n",
            "Name: Health Expenditure %, dtype: float64\n",
            "\n",
            "Missing Value Percentage by Country:\n",
            "Country Name\n",
            "Bermuda          100.0\n",
            "Somalia          100.0\n",
            "Puerto Rico      100.0\n",
            "Guam             100.0\n",
            "Greenland        100.0\n",
            "                 ...  \n",
            "Guinea-Bissau      0.0\n",
            "Guyana             0.0\n",
            "Haiti              0.0\n",
            "Honduras           0.0\n",
            "Latvia             0.0\n",
            "Name: Health Expenditure %, Length: 166, dtype: float64\n"
          ]
        }
      ],
      "source": [
        "# Group by region and calculate the missing value percentages\n",
        "region_missing_percentage = df.groupby('Region')['Health Expenditure %'].apply(lambda x: (x.isna().sum() / len(x)) * 100).sort_values(ascending=False)\n",
        "\n",
        "\n",
        "# Group by country and calculate the missing value percentages\n",
        "country_missing_percentage = df.groupby('Country Name')['Health Expenditure %'].apply(lambda x: (x.isna().sum() / len(x)) * 100).sort_values(ascending=False)\n",
        "\n",
        "\n",
        "# Print out the results\n",
        "print(\"Missing Value Percentage by Region:\")\n",
        "print(region_missing_percentage)\n",
        "\n",
        "print(\"\\nMissing Value Percentage by Country:\")\n",
        "print(country_missing_percentage)"
      ]
    },
    {
      "cell_type": "code",
      "execution_count": 21,
      "metadata": {},
      "outputs": [
        {
          "name": "stdout",
          "output_type": "stream",
          "text": [
            "Missing Value Percentage by Region:\n",
            "Region\n",
            "North America                 64.912281\n",
            "Middle East & North Africa    41.447368\n",
            "Latin America & Caribbean     33.958724\n",
            "East Asia & Pacific           31.500000\n",
            "Sub-Saharan Africa            30.861244\n",
            "Europe & Central Asia         25.598086\n",
            "South Asia                    20.394737\n",
            "Name: Education Expenditure %, dtype: float64\n",
            "\n",
            "Missing Value Percentage by Country:\n",
            "Country Name\n",
            "Dominica                  100.0\n",
            "Bosnia and Herzegovina    100.0\n",
            "Montenegro                100.0\n",
            "Nigeria                   100.0\n",
            "Guam                      100.0\n",
            "                          ...  \n",
            "Nepal                       0.0\n",
            "South Africa                0.0\n",
            "Cote d'Ivoire               0.0\n",
            "Colombia                    0.0\n",
            "Togo                        0.0\n",
            "Name: Education Expenditure %, Length: 166, dtype: float64\n"
          ]
        }
      ],
      "source": [
        "# Group by region and calculate the missing value percentages\n",
        "region_missing_percentage = df.groupby('Region')['Education Expenditure %'].apply(lambda x: (x.isna().sum() / len(x)) * 100).sort_values(ascending=False)\n",
        "\n",
        "\n",
        "# Group by country and calculate the missing value percentages\n",
        "country_missing_percentage = df.groupby('Country Name')['Education Expenditure %'].apply(lambda x: (x.isna().sum() / len(x)) * 100).sort_values(ascending=False)\n",
        "\n",
        "\n",
        "# Print out the results\n",
        "print(\"Missing Value Percentage by Region:\")\n",
        "print(region_missing_percentage)\n",
        "\n",
        "print(\"\\nMissing Value Percentage by Country:\")\n",
        "print(country_missing_percentage)"
      ]
    },
    {
      "cell_type": "code",
      "execution_count": 22,
      "metadata": {},
      "outputs": [
        {
          "data": {
            "text/plain": [
              "47.368421052631575"
            ]
          },
          "execution_count": 22,
          "metadata": {},
          "output_type": "execute_result"
        }
      ],
      "source": [
        "country_missing_percentage['Myanmar']"
      ]
    },
    {
      "cell_type": "code",
      "execution_count": 31,
      "metadata": {},
      "outputs": [],
      "source": [
        "# Calculate the average health expenditure by regions\n",
        "average_health_expenditure_by_region = df.groupby('Region')['Health Expenditure %'].mean()\n",
        "\n",
        "\n",
        "average_edu_expenditure_by_region = df.groupby('Region')['Education Expenditure %'].mean()\n",
        "\n",
        "\n",
        "average_lifeexp_by_region = df.groupby('Region')['Life Expectancy World Bank'].mean()"
      ]
    },
    {
      "cell_type": "code",
      "execution_count": 32,
      "metadata": {},
      "outputs": [
        {
          "name": "stdout",
          "output_type": "stream",
          "text": [
            "Region\n",
            "East Asia & Pacific            5.128787\n",
            "Europe & Central Asia          7.683234\n",
            "Latin America & Caribbean      6.406148\n",
            "Middle East & North Africa     4.945367\n",
            "North America                 12.810141\n",
            "South Asia                     4.927048\n",
            "Sub-Saharan Africa             5.515554\n",
            "Name: Health Expenditure %, dtype: float64\n",
            "Region\n",
            "East Asia & Pacific           4.652636\n",
            "Europe & Central Asia         4.992185\n",
            "Latin America & Caribbean     4.717425\n",
            "Middle East & North Africa    4.786771\n",
            "North America                 3.686346\n",
            "South Asia                    3.475696\n",
            "Sub-Saharan Africa            4.000994\n",
            "Name: Education Expenditure %, dtype: float64\n",
            "Region\n",
            "East Asia & Pacific           72.048998\n",
            "Europe & Central Asia         76.182598\n",
            "Latin America & Caribbean     73.588976\n",
            "Middle East & North Africa    74.605994\n",
            "North America                 79.686498\n",
            "South Asia                    68.527579\n",
            "Sub-Saharan Africa            57.542669\n",
            "Name: Life Expectancy World Bank, dtype: float64\n"
          ]
        }
      ],
      "source": [
        "print(average_health_expenditure_by_region)\n",
        "print(average_edu_expenditure_by_region)\n",
        "print(average_lifeexp_by_region)"
      ]
    },
    {
      "cell_type": "code",
      "execution_count": null,
      "metadata": {},
      "outputs": [],
      "source": []
    }
  ],
  "metadata": {
    "colab": {
      "provenance": []
    },
    "kernelspec": {
      "display_name": "ml_deploy",
      "language": "python",
      "name": "python3"
    },
    "language_info": {
      "codemirror_mode": {
        "name": "ipython",
        "version": 3
      },
      "file_extension": ".py",
      "mimetype": "text/x-python",
      "name": "python",
      "nbconvert_exporter": "python",
      "pygments_lexer": "ipython3",
      "version": "3.9.12"
    }
  },
  "nbformat": 4,
  "nbformat_minor": 0
}
